{
 "cells": [
  {
   "cell_type": "code",
   "execution_count": 6,
   "id": "37fdab75-bdd6-451d-a458-0827689d91db",
   "metadata": {},
   "outputs": [],
   "source": [
    "import os\n",
    "\n",
    "def bulk_rename(folder_path, keep_original_name=True):\n",
    "\n",
    "    # Get a list of files in the folder\n",
    "    files = os.listdir(folder_path)\n",
    "    \n",
    "    # Sort files to ensure consistent numbering order\n",
    "    files.sort()\n",
    "    \n",
    "    # Loop through each file and rename it\n",
    "    for i, filename in enumerate(files, start=1):\n",
    "        # Extract file extension\n",
    "        _, ext = os.path.splitext(filename)\n",
    "        \n",
    "        # Determine the new file name\n",
    "        if keep_original_name:\n",
    "            # Keep the original name and append the number\n",
    "            name, _ = os.path.splitext(filename)\n",
    "            new_filename = f\"{name} {i}{ext}\"\n",
    "        else:\n",
    "            # Replace the name with just the number\n",
    "            new_filename = f\"{i}{ext}\"\n",
    "        \n",
    "        # Rename the file\n",
    "        os.rename(os.path.join(folder_path, filename), os.path.join(folder_path, new_filename))\n",
    "        print(f\"Renamed {filename} to {new_filename}\""
   ]
  },
  {
   "cell_type": "code",
   "execution_count": 7,
   "id": "5f917e3e-db22-4e2d-b8ea-ae75d137a582",
   "metadata": {},
   "outputs": [
    {
     "name": "stdout",
     "output_type": "stream",
     "text": [
      "Renamed 1 2.pdf to 1 2 1.pdf\n",
      "Renamed 2015 1.pdf to 2015 1 2.pdf\n",
      "Renamed 2015 2.pdf to 2015 2 3.pdf\n",
      "Renamed 2016 1.pdf to 2016 1 4.pdf\n",
      "Renamed 2016 2.pdf to 2016 2 5.pdf\n",
      "Renamed 2017 1.pdf to 2017 1 6.pdf\n",
      "Renamed 2017 2.pdf to 2017 2 7.pdf\n",
      "Renamed 2018 1.pdf to 2018 1 8.pdf\n",
      "Renamed 2018 2.pdf to 2018 2 9.pdf\n",
      "Renamed 2019 1.pdf to 2019 1 10.pdf\n",
      "Renamed 2019 2.pdf to 2019 2 11.pdf\n",
      "Renamed 2020 1.pdf to 2020 1 12.pdf\n",
      "Renamed 20202.pdf to 20202 13.pdf\n",
      "Renamed 2021 1.pdf to 2021 1 14.pdf\n",
      "Renamed 2021 2.pdf to 2021 2 15.pdf\n",
      "Renamed 2022 1.pdf to 2022 1 16.pdf\n",
      "Renamed 2022 2.pdf to 2022 2 17.pdf\n",
      "Renamed 2023 1.pdf to 2023 1 18.pdf\n",
      "Renamed 2023 2.pdf to 2023 2 19.pdf\n",
      "Renamed 2024 1.pdf to 2024 1 20.pdf\n"
     ]
    }
   ],
   "source": [
    "bulk_rename(r\"C:\\Users\\naveen kumar pandey\\Desktop\\PAPER_\\TEST\",keep_original_name=True)"
   ]
  },
  {
   "cell_type": "code",
   "execution_count": 8,
   "id": "cfc938c5-01fb-4c46-aac9-885e48908d35",
   "metadata": {},
   "outputs": [
    {
     "name": "stdout",
     "output_type": "stream",
     "text": [
      "Renamed 1 2 1.pdf to 1.pdf\n",
      "Renamed 2015 1 2.pdf to 2.pdf\n",
      "Renamed 2015 2 3.pdf to 3.pdf\n",
      "Renamed 2016 1 4.pdf to 4.pdf\n",
      "Renamed 2016 2 5.pdf to 5.pdf\n",
      "Renamed 2017 1 6.pdf to 6.pdf\n",
      "Renamed 2017 2 7.pdf to 7.pdf\n",
      "Renamed 2018 1 8.pdf to 8.pdf\n",
      "Renamed 2018 2 9.pdf to 9.pdf\n",
      "Renamed 2019 1 10.pdf to 10.pdf\n",
      "Renamed 2019 2 11.pdf to 11.pdf\n",
      "Renamed 2020 1 12.pdf to 12.pdf\n",
      "Renamed 20202 13.pdf to 13.pdf\n",
      "Renamed 2021 1 14.pdf to 14.pdf\n",
      "Renamed 2021 2 15.pdf to 15.pdf\n",
      "Renamed 2022 1 16.pdf to 16.pdf\n",
      "Renamed 2022 2 17.pdf to 17.pdf\n",
      "Renamed 2023 1 18.pdf to 18.pdf\n",
      "Renamed 2023 2 19.pdf to 19.pdf\n",
      "Renamed 2024 1 20.pdf to 20.pdf\n"
     ]
    }
   ],
   "source": [
    "bulk_rename(r\"C:\\Users\\naveen kumar pandey\\Desktop\\PAPER_\\TEST\",keep_original_name=False)"
   ]
  },
  {
   "cell_type": "code",
   "execution_count": null,
   "id": "67f3d446-5d0c-4686-b49d-cb620c4111a1",
   "metadata": {},
   "outputs": [],
   "source": []
  }
 ],
 "metadata": {
  "kernelspec": {
   "display_name": "Python 3 (ipykernel)",
   "language": "python",
   "name": "python3"
  },
  "language_info": {
   "codemirror_mode": {
    "name": "ipython",
    "version": 3
   },
   "file_extension": ".py",
   "mimetype": "text/x-python",
   "name": "python",
   "nbconvert_exporter": "python",
   "pygments_lexer": "ipython3",
   "version": "3.11.7"
  }
 },
 "nbformat": 4,
 "nbformat_minor": 5
}
